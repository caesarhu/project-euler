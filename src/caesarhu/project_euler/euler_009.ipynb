{
 "cells": [
  {
   "cell_type": "code",
   "execution_count": 2,
   "metadata": {},
   "outputs": [
    {
     "name": "stdout",
     "output_type": "stream",
     "text": [
      "  0.000003 seconds (2 allocations: 160 bytes)\n"
     ]
    },
    {
     "data": {
      "text/plain": [
       "31875000"
      ]
     },
     "execution_count": 2,
     "metadata": {},
     "output_type": "execute_result"
    }
   ],
   "source": [
    "function valid_pair(m::Int64, n::Int64)::Bool\n",
    "    !(isodd(m) && isodd(n)) && (gcd(m, n) == 1)\n",
    "end\n",
    "\n",
    "function triplet_generator(m::Int64, n::Int64)\n",
    "    if valid_pair(m, n)\n",
    "        [abs(m^2 - n^2), 2*m*n, (m^2 + n^2)]\n",
    "    end\n",
    "end\n",
    "\n",
    "function solve_009(target=1000)\n",
    "    for i in 1:(target ÷ 3), j in (i + 1):(target - i) ÷ 2\n",
    "        triplet = triplet_generator(i, j)\n",
    "        if triplet != nothing\n",
    "            triplet_sum = sum(triplet)\n",
    "            if (target % triplet_sum == 0)\n",
    "                q = target ÷ triplet_sum\n",
    "                return q^3 * reduce(*, triplet)\n",
    "            end\n",
    "        end\n",
    "    end\n",
    "end\n",
    "\n",
    "@time solve_009()"
   ]
  }
 ],
 "metadata": {
  "kernelspec": {
   "display_name": "Julia 1.7.0",
   "language": "julia",
   "name": "julia-1.7"
  },
  "language_info": {
   "file_extension": ".jl",
   "mimetype": "application/julia",
   "name": "julia",
   "version": "1.7.0"
  },
  "orig_nbformat": 4
 },
 "nbformat": 4,
 "nbformat_minor": 2
}
