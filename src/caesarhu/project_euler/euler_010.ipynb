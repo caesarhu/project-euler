{
 "cells": [
  {
   "cell_type": "code",
   "execution_count": 2,
   "metadata": {},
   "outputs": [
    {
     "name": "stdout",
     "output_type": "stream",
     "text": [
      "  0.008532 seconds (7 allocations: 1.649 MiB)\n"
     ]
    },
    {
     "data": {
      "text/plain": [
       "142913828922"
      ]
     },
     "metadata": {},
     "output_type": "display_data"
    }
   ],
   "source": [
    "import Primes\n",
    "\n",
    "function solve_010(limit=2000000::Int64)\n",
    "    sum(Primes.primes(limit))\n",
    "end\n",
    "\n",
    "@time solve_010()"
   ]
  }
 ],
 "metadata": {
  "kernelspec": {
   "display_name": "Julia 1.7.0",
   "language": "julia",
   "name": "julia-1.7"
  },
  "language_info": {
   "file_extension": ".jl",
   "mimetype": "application/julia",
   "name": "julia",
   "version": "1.7.0"
  },
  "orig_nbformat": 4
 },
 "nbformat": 4,
 "nbformat_minor": 2
}
