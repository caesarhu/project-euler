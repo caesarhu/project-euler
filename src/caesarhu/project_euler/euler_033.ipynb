{
 "cells": [
  {
   "cell_type": "code",
   "execution_count": 10,
   "metadata": {},
   "outputs": [
    {
     "data": {
      "text/plain": [
       "solve_033 (generic function with 1 method)"
      ]
     },
     "execution_count": 10,
     "metadata": {},
     "output_type": "execute_result"
    }
   ],
   "source": [
    "function is_curious(n, d)\n",
    "    nd = digits(n)\n",
    "    dd = digits(d)\n",
    "    (first(nd) == last(dd)) && (n // d == last(nd) // first(dd))\n",
    "end\n",
    "\n",
    "function solve_033()\n",
    "    curious = []\n",
    "    for i in 10:98, j in i+1:99\n",
    "        if is_curious(i, j)\n",
    "            push!(curious, i // j)\n",
    "        end\n",
    "    end\n",
    "    reduce(*, curious) |> denominator\n",
    "end"
   ]
  },
  {
   "cell_type": "code",
   "execution_count": 11,
   "metadata": {},
   "outputs": [
    {
     "data": {
      "text/plain": [
       "100"
      ]
     },
     "execution_count": 11,
     "metadata": {},
     "output_type": "execute_result"
    }
   ],
   "source": [
    "solve_033()"
   ]
  }
 ],
 "metadata": {
  "kernelspec": {
   "display_name": "Julia 1.7.0",
   "language": "julia",
   "name": "julia-1.7"
  },
  "language_info": {
   "file_extension": ".jl",
   "mimetype": "application/julia",
   "name": "julia",
   "version": "1.7.0"
  },
  "orig_nbformat": 4
 },
 "nbformat": 4,
 "nbformat_minor": 2
}
