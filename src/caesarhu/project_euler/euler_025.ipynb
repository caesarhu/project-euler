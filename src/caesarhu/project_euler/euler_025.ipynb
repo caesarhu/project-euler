{
 "cells": [
  {
   "cell_type": "code",
   "execution_count": null,
   "metadata": {},
   "outputs": [],
   "source": [
    "function pow(a,n)   # n > 0 !\n",
    "    if n == 1\n",
    "        return a\n",
    "    else\n",
    "        c = pow(a, n >> 1)\n",
    "        if iseven(n)\n",
    "            return c*c\n",
    "        else\n",
    "            return c*c * a\n",
    "        end\n",
    "    end\n",
    "end  \n",
    "\n",
    "function afib(n)    \n",
    "    if n == 0\n",
    "        return 0\n",
    "    elseif n == 1\n",
    "        return 1\n",
    "    else\n",
    "        return (pow(b,n+1))[2,2]\n",
    "    end\n",
    "end"
   ]
  }
 ],
 "metadata": {
  "kernelspec": {
   "display_name": "Julia 1.7.0",
   "language": "julia",
   "name": "julia-1.7"
  },
  "language_info": {
   "file_extension": ".jl",
   "mimetype": "application/julia",
   "name": "julia",
   "version": "1.7.0"
  },
  "orig_nbformat": 4
 },
 "nbformat": 4,
 "nbformat_minor": 2
}
