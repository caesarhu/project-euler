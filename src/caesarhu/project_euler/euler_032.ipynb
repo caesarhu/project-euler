{
 "cells": [
  {
   "cell_type": "code",
   "execution_count": 15,
   "metadata": {},
   "outputs": [
    {
     "data": {
      "text/plain": [
       "45228"
      ]
     },
     "execution_count": 15,
     "metadata": {},
     "output_type": "execute_result"
    }
   ],
   "source": [
    "function is_pandigital(a, b, c)\n",
    "    v = append!(digits(a), digits(b), digits(c))\n",
    "    sort(v) == collect(1:9)\n",
    "end\n",
    "\n",
    "function solve_032()\n",
    "    result = Set([])\n",
    "    for i in 2:5000-1, j in i:9999÷2\n",
    "        if is_pandigital(i, j, i*j)\n",
    "            push!(result, i*j)\n",
    "        end\n",
    "    end\n",
    "    sum(result)\n",
    "end\n",
    "\n",
    "solve_032()"
   ]
  }
 ],
 "metadata": {
  "kernelspec": {
   "display_name": "Julia 1.7.0",
   "language": "julia",
   "name": "julia-1.7"
  },
  "language_info": {
   "file_extension": ".jl",
   "mimetype": "application/julia",
   "name": "julia",
   "version": "1.7.0"
  },
  "orig_nbformat": 4
 },
 "nbformat": 4,
 "nbformat_minor": 2
}
