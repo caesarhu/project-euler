{
 "cells": [
  {
   "cell_type": "code",
   "execution_count": 5,
   "metadata": {},
   "outputs": [
    {
     "name": "stdout",
     "output_type": "stream",
     "text": [
      "  0.000953 seconds (1.71 k allocations: 128.672 KiB)\n"
     ]
    },
    {
     "data": {
      "text/plain": [
       "906609"
      ]
     },
     "metadata": {},
     "output_type": "display_data"
    }
   ],
   "source": [
    "include(\"utils/utils.jl\")\n",
    "\n",
    "function valid_divisor(n)\n",
    "    100 <= n && n < 1000\n",
    "end\n",
    "\n",
    "function solve_004()\n",
    "    digit = reverse(collect(0 : 9))\n",
    "    result = 0\n",
    "    for i in digit\n",
    "        for j in digit\n",
    "            for k in digit\n",
    "                n = to_number([i, j, k, k, j, i])\n",
    "                ds = divisors(n)\n",
    "                for d in ds\n",
    "                    if valid_divisor(d) && valid_divisor(n ÷ d)\n",
    "                        return n\n",
    "                    end\n",
    "                end\n",
    "            end\n",
    "        end\n",
    "    end\n",
    "    result\n",
    "end\n",
    "\n",
    "@time solve_004()"
   ]
  }
 ],
 "metadata": {
  "kernelspec": {
   "display_name": "Julia 1.7.0",
   "language": "julia",
   "name": "julia-1.7"
  },
  "language_info": {
   "file_extension": ".jl",
   "mimetype": "application/julia",
   "name": "julia",
   "version": "1.7.0"
  },
  "orig_nbformat": 4
 },
 "nbformat": 4,
 "nbformat_minor": 2
}
