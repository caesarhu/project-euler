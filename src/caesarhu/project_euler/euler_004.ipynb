{
 "cells": [
  {
   "cell_type": "code",
   "execution_count": 34,
   "metadata": {},
   "outputs": [
    {
     "name": "stdout",
     "output_type": "stream",
     "text": [
      "  0.000137 seconds (1.90 k allocations: 152.984 KiB)\n"
     ]
    },
    {
     "data": {
      "text/plain": [
       "906609"
      ]
     },
     "metadata": {},
     "output_type": "display_data"
    }
   ],
   "source": [
    "using Primes\n",
    "\n",
    "function properdivisors(n::Int64)\n",
    "    0 < n || throw(ArgumentError(\"number to be factored must be ≥ 0, got $n\"))\n",
    "    1 < n || return Int64[]\n",
    "    !isprime(n) || return Int64[one(Int64), n]\n",
    "    f = factor(n)\n",
    "    d = Int64[one(Int64)]\n",
    "    for (k, v) in f\n",
    "        c = Int64[k^i for i in 0:v]\n",
    "        d = d*c'\n",
    "        d = reshape(d, length(d))\n",
    "    end\n",
    "    sort!(d)\n",
    "    return d[1:end-1]\n",
    "end\n",
    "\n",
    "function to_number(d)\n",
    "    x = reverse(d)\n",
    "    sum(x.*10 .^(0:(length(x)-1)))\n",
    "end\n",
    "\n",
    "function valid_divisor(n)\n",
    "    100 <= n && n < 1000\n",
    "end\n",
    "\n",
    "function solve_004()\n",
    "    digit = reverse(collect(0 : 9))\n",
    "    result = 0\n",
    "    for i in digit\n",
    "        for j in digit\n",
    "            for k in digit\n",
    "                n = to_number([i, j, k, k, j, i])\n",
    "                ds = properdivisors(n)\n",
    "                for d in ds\n",
    "                    if valid_divisor(d) && valid_divisor(n ÷ d)\n",
    "                        return n\n",
    "                    end\n",
    "                end\n",
    "            end\n",
    "        end\n",
    "    end\n",
    "    result\n",
    "end\n",
    "\n",
    "@time solve_004()"
   ]
  }
 ],
 "metadata": {
  "kernelspec": {
   "display_name": "Julia 1.7.0",
   "language": "julia",
   "name": "julia-1.7"
  },
  "language_info": {
   "file_extension": ".jl",
   "mimetype": "application/julia",
   "name": "julia",
   "version": "1.7.0"
  },
  "orig_nbformat": 4
 },
 "nbformat": 4,
 "nbformat_minor": 2
}
