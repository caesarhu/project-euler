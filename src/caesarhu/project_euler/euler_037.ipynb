{
 "cells": [
  {
   "cell_type": "code",
   "execution_count": 31,
   "metadata": {},
   "outputs": [
    {
     "data": {
      "text/plain": [
       "solve_037 (generic function with 1 method)"
      ]
     },
     "execution_count": 31,
     "metadata": {},
     "output_type": "execute_result"
    }
   ],
   "source": [
    "using Primes\n",
    "include(\"utils/utils.jl\")\n",
    "\n",
    "function truncate(n::Int64)\n",
    "    ds = digits(n)\n",
    "    result = []\n",
    "    for i in 1:length(ds)-1\n",
    "        push!(result, ds[1:i], ds[end-i+1:end])\n",
    "    end\n",
    "    map(to_number, result)\n",
    "end\n",
    "\n",
    "function solve_037()\n",
    "    result = []\n",
    "    current_prime = 9\n",
    "    while length(result) < 11\n",
    "        current_prime = nextprime(current_prime, 2)\n",
    "        if all(isprime, truncate(current_prime))\n",
    "            push!(result, current_prime)\n",
    "        end\n",
    "    end\n",
    "    sum(result)\n",
    "end"
   ]
  },
  {
   "cell_type": "code",
   "execution_count": 32,
   "metadata": {},
   "outputs": [
    {
     "data": {
      "text/plain": [
       "748317"
      ]
     },
     "execution_count": 32,
     "metadata": {},
     "output_type": "execute_result"
    }
   ],
   "source": [
    "solve_037()"
   ]
  }
 ],
 "metadata": {
  "kernelspec": {
   "display_name": "Julia 1.7.0",
   "language": "julia",
   "name": "julia-1.7"
  },
  "language_info": {
   "file_extension": ".jl",
   "mimetype": "application/julia",
   "name": "julia",
   "version": "1.7.0"
  },
  "orig_nbformat": 4
 },
 "nbformat": 4,
 "nbformat_minor": 2
}
