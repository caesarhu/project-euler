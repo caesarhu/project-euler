{
 "cells": [
  {
   "cell_type": "code",
   "execution_count": 1,
   "metadata": {},
   "outputs": [
    {
     "data": {
      "text/plain": [
       "solve_045 (generic function with 1 method)"
      ]
     },
     "execution_count": 1,
     "metadata": {},
     "output_type": "execute_result"
    }
   ],
   "source": [
    "function is_triangle(n::Int64)\n",
    "    root = (sqrt(n * 8 + 1) - 1) / 2\n",
    "    isinteger(root)\n",
    "end\n",
    "\n",
    "function is_pentagonal(n::Int64)\n",
    "    temp = 1 + 24 * n\n",
    "    discriminant = isqrt(temp)\n",
    "    sqrt(temp) == discriminant && isinteger((discriminant + 1) / 6)\n",
    "end\n",
    "\n",
    "function hexagonal(n::Int64)\n",
    "    n * (2 * n - 1)\n",
    "end\n",
    "\n",
    "function solve_045()\n",
    "    i = 143\n",
    "    while true\n",
    "        i += 1\n",
    "        h = hexagonal(i)\n",
    "        if is_pentagonal(h) && is_triangle(h)\n",
    "            return h\n",
    "        end\n",
    "    end\n",
    "end"
   ]
  },
  {
   "cell_type": "code",
   "execution_count": 2,
   "metadata": {},
   "outputs": [
    {
     "data": {
      "text/plain": [
       "1533776805"
      ]
     },
     "execution_count": 2,
     "metadata": {},
     "output_type": "execute_result"
    }
   ],
   "source": [
    "solve_045()"
   ]
  }
 ],
 "metadata": {
  "kernelspec": {
   "display_name": "Julia 1.7.0",
   "language": "julia",
   "name": "julia-1.7"
  },
  "language_info": {
   "file_extension": ".jl",
   "mimetype": "application/julia",
   "name": "julia",
   "version": "1.7.0"
  },
  "orig_nbformat": 4
 },
 "nbformat": 4,
 "nbformat_minor": 2
}
