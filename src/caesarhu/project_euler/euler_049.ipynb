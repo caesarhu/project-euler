{
 "cells": [
  {
   "cell_type": "code",
   "execution_count": 88,
   "metadata": {},
   "outputs": [
    {
     "data": {
      "text/plain": [
       "solve_049 (generic function with 1 method)"
      ]
     },
     "execution_count": 88,
     "metadata": {},
     "output_type": "execute_result"
    }
   ],
   "source": [
    "using Primes\n",
    "using Lazy, Combinatorics\n",
    "\n",
    "function sort_digits(n)\n",
    "    digits(n) |> sort\n",
    "end\n",
    "\n",
    "function is_arithmetic(a)\n",
    "    @>> Combinatorics.combinations(a, 3) collect filter(v -> v[1] + v[3] == v[2] + v[2])\n",
    "end\n",
    "\n",
    "function vec_str(vec)\n",
    "    reduce((acc, n) -> string(acc,n), vec; init=\"\")\n",
    "end\n",
    "\n",
    "function solve_049()\n",
    "    @>> 1000:9999 begin\n",
    "        filter(x -> isprime(x))\n",
    "        reduce((acc, x) -> mergewith(append!, acc, Dict(sort_digits(x) => [x])); init=Dict())\n",
    "        values\n",
    "        collect\n",
    "        filter(x -> length(x) >= 3)\n",
    "        map(is_arithmetic)\n",
    "        filter(!isempty)\n",
    "        map(x -> map(vec_str,x))\n",
    "    end\n",
    "end"
   ]
  },
  {
   "cell_type": "code",
   "execution_count": 89,
   "metadata": {},
   "outputs": [
    {
     "data": {
      "text/plain": [
       "2-element Vector{Vector{String}}:\n",
       " [\"296962999629\"]\n",
       " [\"148748178147\"]"
      ]
     },
     "execution_count": 89,
     "metadata": {},
     "output_type": "execute_result"
    }
   ],
   "source": [
    "solve_049()"
   ]
  }
 ],
 "metadata": {
  "kernelspec": {
   "display_name": "Julia 1.7.0",
   "language": "julia",
   "name": "julia-1.7"
  },
  "language_info": {
   "file_extension": ".jl",
   "mimetype": "application/julia",
   "name": "julia",
   "version": "1.7.0"
  },
  "orig_nbformat": 4
 },
 "nbformat": 4,
 "nbformat_minor": 2
}
