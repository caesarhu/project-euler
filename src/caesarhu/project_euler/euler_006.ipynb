{
 "cells": [
  {
   "cell_type": "code",
   "execution_count": 1,
   "metadata": {},
   "outputs": [
    {
     "name": "stdout",
     "output_type": "stream",
     "text": [
      "  0.000570 seconds (2 allocations: 1.750 KiB)\n"
     ]
    },
    {
     "data": {
      "text/plain": [
       "25164150"
      ]
     },
     "execution_count": 1,
     "metadata": {},
     "output_type": "execute_result"
    }
   ],
   "source": [
    "function square(n::Int64)\n",
    "    n * n\n",
    "end\n",
    "\n",
    "function solve_006(limit::Int64)\n",
    "    v = collect(1:limit)\n",
    "    square_sum = sum(map(x -> square(x), v))\n",
    "    sum_square = square(sum(v))\n",
    "    sum_square - square_sum\n",
    "end\n",
    "\n",
    "@time solve_006(100)"
   ]
  }
 ],
 "metadata": {
  "kernelspec": {
   "display_name": "Julia 1.7.0",
   "language": "julia",
   "name": "julia-1.7"
  },
  "language_info": {
   "file_extension": ".jl",
   "mimetype": "application/julia",
   "name": "julia",
   "version": "1.7.0"
  },
  "orig_nbformat": 4
 },
 "nbformat": 4,
 "nbformat_minor": 2
}
