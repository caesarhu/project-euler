{
 "cells": [
  {
   "cell_type": "code",
   "execution_count": 7,
   "metadata": {},
   "outputs": [
    {
     "data": {
      "text/plain": [
       "solve_022 (generic function with 1 method)"
      ]
     },
     "execution_count": 7,
     "metadata": {},
     "output_type": "execute_result"
    }
   ],
   "source": [
    "function get_names()\n",
    "    path = \"../../../resources/data/p022_names.txt\"\n",
    "    names = split(open(f->read(f, String), path), \",\")\n",
    "    map(s -> replace(s, \"\\\"\" => \"\"), names) |> sort\n",
    "end\n",
    "\n",
    "function score(name::String)\n",
    "    map(c -> Int(c) - 64, collect(name)) |> sum\n",
    "end\n",
    "\n",
    "function solve_022()\n",
    "    result = 0\n",
    "    names = get_names()\n",
    "    for i in 1:length(names)\n",
    "        result += (i * score(names[i]))\n",
    "    end\n",
    "    result\n",
    "end"
   ]
  },
  {
   "cell_type": "code",
   "execution_count": 9,
   "metadata": {},
   "outputs": [
    {
     "name": "stdout",
     "output_type": "stream",
     "text": [
      "  0.003397 seconds (36.17 k allocations: 2.714 MiB)\n"
     ]
    },
    {
     "data": {
      "text/plain": [
       "871198282"
      ]
     },
     "execution_count": 9,
     "metadata": {},
     "output_type": "execute_result"
    }
   ],
   "source": [
    "@time solve_022()"
   ]
  }
 ],
 "metadata": {
  "kernelspec": {
   "display_name": "Julia 1.7.0",
   "language": "julia",
   "name": "julia-1.7"
  },
  "language_info": {
   "file_extension": ".jl",
   "mimetype": "application/julia",
   "name": "julia",
   "version": "1.7.0"
  },
  "orig_nbformat": 4
 },
 "nbformat": 4,
 "nbformat_minor": 2
}
