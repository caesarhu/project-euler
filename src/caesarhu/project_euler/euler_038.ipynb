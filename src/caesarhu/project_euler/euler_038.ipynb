{
 "cells": [
  {
   "cell_type": "code",
   "execution_count": 67,
   "metadata": {},
   "outputs": [
    {
     "data": {
      "text/plain": [
       "solve_038 (generic function with 1 method)"
      ]
     },
     "execution_count": 67,
     "metadata": {},
     "output_type": "execute_result"
    }
   ],
   "source": [
    "using Lazy\n",
    "include(\"utils/utils.jl\")\n",
    "\n",
    "function is_pandigital(x)\n",
    "    z = map(y -> digits(y), x)\n",
    "    collect(Iterators.flatten(z)) |> sort == collect(1:9)\n",
    "end\n",
    "\n",
    "function prod_pandigital(n::Int64)\n",
    "    L = length(digits(n))\n",
    "    temp = @>> begin\n",
    "                map(x -> collect(1:x), 2:9÷L)\n",
    "                map(x -> x * n)\n",
    "            end\n",
    "    i = findfirst(is_pandigital, temp)\n",
    "    if i != nothing\n",
    "        return Iterators.flatten(@>> temp[i] map(digits) reverse) |> collect |> to_number\n",
    "    end\n",
    "end\n",
    "\n",
    "function solve_038()\n",
    "    @>> 2:9999 map(x -> prod_pandigital(x)) filter(!isnothing) maximum\n",
    "end"
   ]
  },
  {
   "cell_type": "code",
   "execution_count": 68,
   "metadata": {},
   "outputs": [
    {
     "data": {
      "text/plain": [
       "932718654"
      ]
     },
     "execution_count": 68,
     "metadata": {},
     "output_type": "execute_result"
    }
   ],
   "source": [
    "solve_038()"
   ]
  }
 ],
 "metadata": {
  "kernelspec": {
   "display_name": "Julia 1.7.0",
   "language": "julia",
   "name": "julia-1.7"
  },
  "language_info": {
   "file_extension": ".jl",
   "mimetype": "application/julia",
   "name": "julia",
   "version": "1.7.0"
  },
  "orig_nbformat": 4
 },
 "nbformat": 4,
 "nbformat_minor": 2
}
