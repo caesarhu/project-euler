{
 "cells": [
  {
   "cell_type": "code",
   "execution_count": 56,
   "metadata": {},
   "outputs": [
    {
     "data": {
      "text/plain": [
       "solve_036 (generic function with 2 methods)"
      ]
     },
     "execution_count": 56,
     "metadata": {},
     "output_type": "execute_result"
    }
   ],
   "source": [
    "include(\"utils/utils.jl\")\n",
    "\n",
    "function append_half(v, is_even)\n",
    "    if is_even\n",
    "        append!(v, reverse(v))\n",
    "    else\n",
    "        append!(v, reverse(v[1:end-1]))\n",
    "    end\n",
    "end\n",
    "\n",
    "function palindromes(n::Int64)\n",
    "    half = (n + 1) ÷ 2\n",
    "    result = collect(1:9)\n",
    "    for i in 1:half-1\n",
    "        result = collect(Iterators.product(result, collect(0:9)))\n",
    "    end\n",
    "    half_digits = map(x -> collect(Iterators.flatten(x)), result)\n",
    "    digits = map(x -> append_half(x, iseven(n)), half_digits)\n",
    "    map(to_number, digits)\n",
    "end\n",
    "\n",
    "function is_palindrome(n, b)\n",
    "    ds = digits(n, base=b)\n",
    "    ds == reverse(ds)\n",
    "end\n",
    "\n",
    "function solve_036(limit=6::Int64)\n",
    "    result = []\n",
    "    for i in 1:limit\n",
    "        append!(result, filter(x -> is_palindrome(x, 2), palindromes(i)))\n",
    "    end\n",
    "    sum(result)\n",
    "end"
   ]
  },
  {
   "cell_type": "code",
   "execution_count": 58,
   "metadata": {},
   "outputs": [
    {
     "name": "stdout",
     "output_type": "stream",
     "text": [
      "  0.000888 seconds (16.68 k allocations: 1.723 MiB)\n"
     ]
    },
    {
     "data": {
      "text/plain": [
       "872187"
      ]
     },
     "execution_count": 58,
     "metadata": {},
     "output_type": "execute_result"
    }
   ],
   "source": [
    "@time solve_036(6)"
   ]
  }
 ],
 "metadata": {
  "kernelspec": {
   "display_name": "Julia 1.7.0",
   "language": "julia",
   "name": "julia-1.7"
  },
  "language_info": {
   "file_extension": ".jl",
   "mimetype": "application/julia",
   "name": "julia",
   "version": "1.7.0"
  },
  "orig_nbformat": 4
 },
 "nbformat": 4,
 "nbformat_minor": 2
}
