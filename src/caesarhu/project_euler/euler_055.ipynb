{
 "cells": [
  {
   "cell_type": "code",
   "execution_count": 86,
   "metadata": {},
   "outputs": [
    {
     "data": {
      "text/plain": [
       "is_Lychrel (generic function with 3 methods)"
      ]
     },
     "execution_count": 86,
     "metadata": {},
     "output_type": "execute_result"
    }
   ],
   "source": [
    "function is_palindrome(n::BigInt)\n",
    "    ds = digits(n)\n",
    "    ds == reverse(ds)\n",
    "end\n",
    "\n",
    "function to_number(v, base=10, direction=false)\n",
    "    if direction\n",
    "        foldl((rest, msd) -> base*rest + msd, v, init=BigInt(0))\n",
    "    else\n",
    "        foldr((rest, msd) -> rest + base*msd, v, init=BigInt(0))\n",
    "    end\n",
    "end\n",
    "\n",
    "function sum_round(n::BigInt)\n",
    "    ds = digits(n)\n",
    "    to_number(ds) + to_number(reverse(ds))\n",
    "end\n",
    "\n",
    "function is_Lychrel(n::BigInt)\n",
    "    i = 1\n",
    "    x = sum_round(n)\n",
    "    while i <= 50\n",
    "        if is_palindrome(x)\n",
    "            return false\n",
    "        end\n",
    "        x = sum_round(x)\n",
    "        i += 1\n",
    "    end\n",
    "    return true\n",
    "end"
   ]
  },
  {
   "cell_type": "code",
   "execution_count": 88,
   "metadata": {},
   "outputs": [
    {
     "name": "stdout",
     "output_type": "stream",
     "text": [
      "  0.446015 seconds (5.15 M allocations: 107.853 MiB, 34.94% gc time)\n"
     ]
    },
    {
     "data": {
      "text/plain": [
       "249"
      ]
     },
     "execution_count": 88,
     "metadata": {},
     "output_type": "execute_result"
    }
   ],
   "source": [
    "@time count(is_Lychrel, 1:9999)"
   ]
  }
 ],
 "metadata": {
  "interpreter": {
   "hash": "e7370f93d1d0cde622a1f8e1c04877d8463912d04d973331ad4851f04de6915a"
  },
  "kernelspec": {
   "display_name": "Julia 1.7.0",
   "language": "julia",
   "name": "julia-1.7"
  },
  "language_info": {
   "file_extension": ".jl",
   "mimetype": "application/julia",
   "name": "julia",
   "version": "1.7.0"
  },
  "orig_nbformat": 4
 },
 "nbformat": 4,
 "nbformat_minor": 2
}
