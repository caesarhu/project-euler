{
 "cells": [
  {
   "cell_type": "code",
   "execution_count": 20,
   "metadata": {},
   "outputs": [
    {
     "data": {
      "text/plain": [
       "solve_032 (generic function with 1 method)"
      ]
     },
     "metadata": {},
     "output_type": "display_data"
    }
   ],
   "source": [
    "include(\"utils/utils.jl\")\n",
    "\n",
    "function is_pandigital(a, b, c)\n",
    "    v = append!(digits(a), digits(b), digits(c))\n",
    "    sort(v) == collect(1:9)\n",
    "end\n",
    "\n",
    "function proper_divisors(n::Int64)\n",
    "    ds = divisors(n)[2:end-1]\n",
    "    result = []\n",
    "    for i in 1:length(ds) ÷ 2\n",
    "        push!(result, [ds[i], ds[end-i+1]])\n",
    "    end\n",
    "    result\n",
    "end\n",
    "\n",
    "function solve_032()\n",
    "    result = []\n",
    "    for i in 1000:9999\n",
    "        if any(x -> is_pandigital(i, x[1], x[2]), proper_divisors(i))\n",
    "            push!(result, i)\n",
    "        end\n",
    "    end\n",
    "    sum(result)\n",
    "end\n"
   ]
  },
  {
   "cell_type": "code",
   "execution_count": 21,
   "metadata": {},
   "outputs": [
    {
     "name": "stdout",
     "output_type": "stream",
     "text": [
      "  0.025577 seconds (477.56 k allocations: 42.802 MiB, 10.97% gc time, 29.28% compilation time)\n"
     ]
    },
    {
     "data": {
      "text/plain": [
       "45228"
      ]
     },
     "metadata": {},
     "output_type": "display_data"
    }
   ],
   "source": [
    "@time solve_032()"
   ]
  }
 ],
 "metadata": {
  "kernelspec": {
   "display_name": "Julia 1.7.0",
   "language": "julia",
   "name": "julia-1.7"
  },
  "language_info": {
   "file_extension": ".jl",
   "mimetype": "application/julia",
   "name": "julia",
   "version": "1.7.0"
  },
  "orig_nbformat": 4
 },
 "nbformat": 4,
 "nbformat_minor": 2
}
