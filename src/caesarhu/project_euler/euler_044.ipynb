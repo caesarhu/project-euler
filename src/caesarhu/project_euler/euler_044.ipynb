{
 "cells": [
  {
   "cell_type": "code",
   "execution_count": 7,
   "metadata": {},
   "outputs": [
    {
     "data": {
      "text/plain": [
       "solve_044 (generic function with 1 method)"
      ]
     },
     "execution_count": 7,
     "metadata": {},
     "output_type": "execute_result"
    }
   ],
   "source": [
    "function is_pentagonal(n::Int64)\n",
    "    temp = 1 + 24 * n\n",
    "    discriminant = isqrt(temp)\n",
    "    sqrt(temp) == discriminant && isinteger((discriminant + 1) / 6)\n",
    "end\n",
    "\n",
    "function pentagon(n::Int64)\n",
    "    n * (3 * n - 1) ÷ 2\n",
    "end\n",
    "\n",
    "function solve_044()\n",
    "    i = 1\n",
    "    while true\n",
    "        i += 1\n",
    "        n = pentagon(i)\n",
    "        for j in 1:i - 1\n",
    "            m = pentagon(j)\n",
    "            if is_pentagonal(n - m) && is_pentagonal(n + m) \n",
    "                return (n - m)\n",
    "            end\n",
    "        end\n",
    "    end\n",
    "end"
   ]
  },
  {
   "cell_type": "code",
   "execution_count": 9,
   "metadata": {},
   "outputs": [
    {
     "name": "stdout",
     "output_type": "stream",
     "text": [
      "  0.077183 seconds\n"
     ]
    },
    {
     "data": {
      "text/plain": [
       "5482660"
      ]
     },
     "execution_count": 9,
     "metadata": {},
     "output_type": "execute_result"
    }
   ],
   "source": [
    "@time solve_044()"
   ]
  }
 ],
 "metadata": {
  "kernelspec": {
   "display_name": "Julia 1.7.0",
   "language": "julia",
   "name": "julia-1.7"
  },
  "language_info": {
   "file_extension": ".jl",
   "mimetype": "application/julia",
   "name": "julia",
   "version": "1.7.0"
  },
  "orig_nbformat": 4
 },
 "nbformat": 4,
 "nbformat_minor": 2
}
