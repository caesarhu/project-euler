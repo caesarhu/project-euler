{
 "cells": [
  {
   "cell_type": "code",
   "execution_count": 28,
   "metadata": {},
   "outputs": [
    {
     "data": {
      "text/plain": [
       "solve_041 (generic function with 1 method)"
      ]
     },
     "execution_count": 28,
     "metadata": {},
     "output_type": "execute_result"
    }
   ],
   "source": [
    "using Combinatorics, Primes\n",
    "include(\"utils/utils.jl\")\n",
    "\n",
    "function v2n(v)\n",
    "    reverse(v) |> to_number\n",
    "end\n",
    "\n",
    "function solve_041()\n",
    "    it = permutations(collect(7:-1:1))\n",
    "    (current, it) = Iterators.peel(it)\n",
    "    while !isprime(v2n(current))\n",
    "        (current, it) = Iterators.peel(it)\n",
    "    end\n",
    "    v2n(current)\n",
    "end"
   ]
  },
  {
   "cell_type": "code",
   "execution_count": 29,
   "metadata": {},
   "outputs": [
    {
     "name": "stdout",
     "output_type": "stream",
     "text": [
      "  0.000013 seconds (134 allocations: 9.250 KiB)\n"
     ]
    },
    {
     "data": {
      "text/plain": [
       "7652413"
      ]
     },
     "execution_count": 29,
     "metadata": {},
     "output_type": "execute_result"
    }
   ],
   "source": [
    "@time solve_041()"
   ]
  }
 ],
 "metadata": {
  "kernelspec": {
   "display_name": "Julia 1.7.0",
   "language": "julia",
   "name": "julia-1.7"
  },
  "language_info": {
   "file_extension": ".jl",
   "mimetype": "application/julia",
   "name": "julia",
   "version": "1.7.0"
  },
  "orig_nbformat": 4
 },
 "nbformat": 4,
 "nbformat_minor": 2
}
