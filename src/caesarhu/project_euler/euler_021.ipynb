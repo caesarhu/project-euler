{
 "cells": [
  {
   "cell_type": "code",
   "execution_count": 25,
   "metadata": {},
   "outputs": [
    {
     "data": {
      "text/plain": [
       "solve_021 (generic function with 2 methods)"
      ]
     },
     "execution_count": 25,
     "metadata": {},
     "output_type": "execute_result"
    }
   ],
   "source": [
    "include(\"utils/utils.jl\")\n",
    "\n",
    "function dsum(n)\n",
    "    divisors(n)[1:end-1] |> sum\n",
    "end\n",
    "\n",
    "function solve_021(limit=10000)\n",
    "    all_sum = []\n",
    "    for i in 1:limit\n",
    "        push!(all_sum, dsum(i))\n",
    "    end\n",
    "    total = 0\n",
    "    for i in 2:limit\n",
    "        pair = all_sum[i]\n",
    "        if pair < (limit - 1) && i != pair && all_sum[pair] == i\n",
    "            total += i\n",
    "        end\n",
    "    end\n",
    "    total\n",
    "end"
   ]
  },
  {
   "cell_type": "code",
   "execution_count": 26,
   "metadata": {},
   "outputs": [
    {
     "name": "stdout",
     "output_type": "stream",
     "text": [
      "  0.010161 seconds (168.24 k allocations: 10.565 MiB)\n"
     ]
    },
    {
     "data": {
      "text/plain": [
       "31626"
      ]
     },
     "execution_count": 26,
     "metadata": {},
     "output_type": "execute_result"
    }
   ],
   "source": [
    "@time solve_021()"
   ]
  }
 ],
 "metadata": {
  "kernelspec": {
   "display_name": "Julia 1.7.0",
   "language": "julia",
   "name": "julia-1.7"
  },
  "language_info": {
   "file_extension": ".jl",
   "mimetype": "application/julia",
   "name": "julia",
   "version": "1.7.0"
  },
  "orig_nbformat": 4
 },
 "nbformat": 4,
 "nbformat_minor": 2
}
