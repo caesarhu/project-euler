{
 "cells": [
  {
   "cell_type": "code",
   "execution_count": 18,
   "metadata": {},
   "outputs": [
    {
     "data": {
      "text/plain": [
       "solve_018 (generic function with 1 method)"
      ]
     },
     "execution_count": 18,
     "metadata": {},
     "output_type": "execute_result"
    }
   ],
   "source": [
    "target = [\n",
    "    [75],\n",
    "    [95,64],\n",
    "    [17,47,82],\n",
    "    [18,35,87,10],\n",
    "    [20,4,82,47,65],\n",
    "    [19,1,23,75,3,34],\n",
    "    [88,2,77,73,7,63,67],\n",
    "    [99,65,4,28,6,16,70,92],\n",
    "    [41,41,26,56,83,40,80,70,33],\n",
    "    [41,48,72,33,47,32,37,16,94,29],\n",
    "    [53,71,44,65,25,43,91,52,97,51,14],\n",
    "    [70,11,33,28,77,73,17,78,39,68,17,57],\n",
    "    [91,71,52,38,17,14,91,43,58,50,27,29,48],\n",
    "    [63,66,4,68,89,53,67,30,73,16,69,87,40,31],\n",
    "    [4,62,98,27,23,9,70,98,73,93,38,53,60,4,23]]\n",
    "\n",
    "function part2(coll)\n",
    "    result = []\n",
    "    for i in 1:length(coll) - 1\n",
    "        push!(result, coll[i:i+1])\n",
    "    end\n",
    "    result\n",
    "end\n",
    "\n",
    "function merge_rows(row1, row2)\n",
    "    map(x -> maximum(x), part2(row1)) + row2\n",
    "end\n",
    "\n",
    "function solve_018()\n",
    "    reduce(merge_rows, reverse(target))[1]\n",
    "end"
   ]
  },
  {
   "cell_type": "code",
   "execution_count": 19,
   "metadata": {},
   "outputs": [
    {
     "name": "stdout",
     "output_type": "stream",
     "text": [
      "  0.122538 seconds (122.06 k allocations: 6.628 MiB, 99.89% compilation time)\n"
     ]
    },
    {
     "data": {
      "text/plain": [
       "1074"
      ]
     },
     "execution_count": 19,
     "metadata": {},
     "output_type": "execute_result"
    }
   ],
   "source": [
    "@time solve_018()"
   ]
  }
 ],
 "metadata": {
  "kernelspec": {
   "display_name": "Julia 1.7.0",
   "language": "julia",
   "name": "julia-1.7"
  },
  "language_info": {
   "file_extension": ".jl",
   "mimetype": "application/julia",
   "name": "julia",
   "version": "1.7.0"
  },
  "orig_nbformat": 4
 },
 "nbformat": 4,
 "nbformat_minor": 2
}
