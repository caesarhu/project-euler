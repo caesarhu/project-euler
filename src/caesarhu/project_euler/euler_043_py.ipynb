{
 "cells": [
  {
   "cell_type": "code",
   "execution_count": 45,
   "metadata": {},
   "outputs": [
    {
     "name": "stdout",
     "output_type": "stream",
     "text": [
      "d0=1 d1=4 d2=0 d3=6 d4=3 d5=5 d6=7 d7=2 d8=8 d9=9 \n",
      "d0=4 d1=1 d2=0 d3=6 d4=3 d5=5 d6=7 d7=2 d8=8 d9=9 \n",
      "d0=1 d1=4 d2=6 d3=0 d4=3 d5=5 d6=7 d7=2 d8=8 d9=9 \n",
      "d0=1 d1=4 d2=3 d3=0 d4=9 d5=5 d6=2 d7=8 d8=6 d9=7 \n",
      "d0=4 d1=1 d2=6 d3=0 d4=3 d5=5 d6=7 d7=2 d8=8 d9=9 \n",
      "d0=4 d1=1 d2=3 d3=0 d4=9 d5=5 d6=2 d7=8 d8=6 d9=7 \n",
      "Status = OPTIMAL\n",
      "Number of solutions found: 6\n"
     ]
    }
   ],
   "source": [
    "from ortools.sat.python import cp_model\n",
    "\n",
    "# [START print_solution]\n",
    "class VarArraySolutionPrinter(cp_model.CpSolverSolutionCallback):\n",
    "    \"\"\"Print intermediate solutions.\"\"\"\n",
    "\n",
    "    def __init__(self, variables):\n",
    "        cp_model.CpSolverSolutionCallback.__init__(self)\n",
    "        self.__variables = variables\n",
    "        self.__solution_count = 0\n",
    "\n",
    "    def on_solution_callback(self):\n",
    "        self.__solution_count += 1\n",
    "        for v in self.__variables:\n",
    "            print('%s=%i' % (v, self.Value(v)), end=' ')\n",
    "        print()\n",
    "\n",
    "    def solution_count(self):\n",
    "        return self.__solution_count\n",
    "        # [END print_solution]\n",
    "\n",
    "def get_domain(n):\n",
    "    domain = []\n",
    "    i = 0\n",
    "    while i * n < 1000:\n",
    "        domain.append(i * n)\n",
    "        i += 1\n",
    "    return cp_model.Domain.FromValues(domain)\n",
    "\n",
    "def solve_043():\n",
    "    model = cp_model.CpModel()\n",
    "    primes = [2,3,5,7,11,13,17]\n",
    "    vars = []\n",
    "    for i in range(10):\n",
    "        vars.append(model.NewIntVar(0, 9, 'd' + str(i)))\n",
    "    \n",
    "    def divisible(n, p):\n",
    "        m = [100,10,1]\n",
    "        x = vars[n:n+3]\n",
    "        model.AddLinearExpressionInDomain(cp_model.LinearExpr.ScalProd(x, m), get_domain(p))\n",
    "\n",
    "    model.AddAllDifferent(vars)\n",
    "    model.Add(vars[0] > 0)\n",
    "    for i in range(7):\n",
    "        divisible(i+1,primes[i])\n",
    "\n",
    "    solver = cp_model.CpSolver()\n",
    "    solution_printer = VarArraySolutionPrinter(vars)\n",
    "    solver.parameters.enumerate_all_solutions = True\n",
    "    status = solver.Solve(model, solution_printer)\n",
    "\n",
    "    print('Status = %s' % solver.StatusName(status))\n",
    "    print('Number of solutions found: %i' % solution_printer.solution_count())\n",
    "\n",
    "solve_043()"
   ]
  }
 ],
 "metadata": {
  "interpreter": {
   "hash": "e7370f93d1d0cde622a1f8e1c04877d8463912d04d973331ad4851f04de6915a"
  },
  "kernelspec": {
   "display_name": "Python 3.9.9 64-bit",
   "language": "python",
   "name": "python3"
  },
  "language_info": {
   "codemirror_mode": {
    "name": "ipython",
    "version": 3
   },
   "file_extension": ".py",
   "mimetype": "text/x-python",
   "name": "python",
   "nbconvert_exporter": "python",
   "pygments_lexer": "ipython3",
   "version": "3.9.9"
  },
  "orig_nbformat": 4
 },
 "nbformat": 4,
 "nbformat_minor": 2
}
