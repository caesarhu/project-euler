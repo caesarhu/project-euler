{
 "cells": [
  {
   "cell_type": "code",
   "execution_count": 6,
   "metadata": {},
   "outputs": [
    {
     "data": {
      "text/plain": [
       "73682"
      ]
     },
     "metadata": {},
     "output_type": "display_data"
    }
   ],
   "source": [
    "coins = [200, 100, 50, 20, 10, 5, 2, 1]\n",
    "\n",
    "function findPossibilities(vector, target)\n",
    "  if length(vector) == 1; return 1; end\n",
    "\n",
    "  coin = vector[1]\n",
    "  i = 0\n",
    "  count = 0\n",
    "  while coin * i <= target\n",
    "    t = target - coin * i\n",
    "    count += findPossibilities(vector[2:end], t)\n",
    "    i += 1\n",
    "  end\n",
    "  return count\n",
    "end\n",
    "\n",
    "function solve_031(target=200)\n",
    "    findPossibilities(coins, target)\n",
    "end\n"
   ]
  },
  {
   "cell_type": "code",
   "execution_count": 7,
   "metadata": {},
   "outputs": [
    {
     "name": "stdout",
     "output_type": "stream",
     "text": [
      "  0.004968 seconds (77.31 k allocations: 4.775 MiB)\n"
     ]
    },
    {
     "data": {
      "text/plain": [
       "73682"
      ]
     },
     "metadata": {},
     "output_type": "display_data"
    }
   ],
   "source": [
    "@time solve_031()"
   ]
  }
 ],
 "metadata": {
  "kernelspec": {
   "display_name": "Julia 1.7.0",
   "language": "julia",
   "name": "julia-1.7"
  },
  "language_info": {
   "file_extension": ".jl",
   "mimetype": "application/julia",
   "name": "julia",
   "version": "1.7.0"
  },
  "orig_nbformat": 4
 },
 "nbformat": 4,
 "nbformat_minor": 2
}
