{
 "cells": [
  {
   "cell_type": "code",
   "execution_count": 1,
   "metadata": {},
   "outputs": [
    {
     "data": {
      "text/plain": [
       "facpfac (generic function with 1 method)"
      ]
     },
     "metadata": {},
     "output_type": "display_data"
    }
   ],
   "source": [
    "function main(n=200000,d=12)\n",
    "    total=p154bf(20,5)\n",
    "    @time p154bf(n,d)\n",
    "end\n",
    "\n",
    "function p154bf(level::Int64,divisor::Int64)\n",
    "\n",
    "    nsum=0\n",
    "    nfac2,nfac5=facpfac(level,2),facpfac(level,5)\n",
    "    mults=Int64[1,3,6]\n",
    "    facs2=Int64[facpfac(x,2) for x in 1:level]\n",
    "    facs5=Int64[facpfac(x,5) for x in 1:level]\n",
    "    for p in 1:level÷2\n",
    "        nf5_pf5=nfac5-facs5[p]\n",
    "        nf2_pf2=nfac2-facs2[p]\n",
    "        for q in 1:min(p, level-2*p)\n",
    "            r=level-p-q\n",
    "            if nf5_pf5-facs5[q]-facs5[r]<divisor\n",
    "                continue\n",
    "            end\n",
    "            if nf2_pf2-facs2[q]-facs2[r]<divisor\n",
    "                continue\n",
    "            end\n",
    "            if p==q || p==r\n",
    "                nsum+=3\n",
    "                continue\n",
    "            end\n",
    "            nsum+=6\n",
    "        end\n",
    "    end\n",
    "    return nsum\n",
    "end\n",
    "\n",
    "function facpfac(n::Int64,prime::Int64)\n",
    "# returns the exponent of prime as a factor of n!\n",
    "    e=0\n",
    "    power=1\n",
    "    delta=10\n",
    "    while delta>0\n",
    "        # delta=div(n,prime^power)\n",
    "        delta=n÷prime^power\n",
    "        e+=delta\n",
    "        power+=1\n",
    "    end\n",
    "    return e\n",
    "end\n"
   ]
  },
  {
   "cell_type": "code",
   "execution_count": 3,
   "metadata": {},
   "outputs": [
    {
     "name": "stdout",
     "output_type": "stream",
     "text": [
      "  4.103938 seconds (5 allocations: 3.052 MiB, 0.45% gc time)\n"
     ]
    },
    {
     "data": {
      "text/plain": [
       "479742450"
      ]
     },
     "metadata": {},
     "output_type": "display_data"
    }
   ],
   "source": [
    "main()"
   ]
  }
 ],
 "metadata": {
  "kernelspec": {
   "display_name": "Julia 1.7.0",
   "language": "julia",
   "name": "julia-1.7"
  },
  "language_info": {
   "file_extension": ".jl",
   "mimetype": "application/julia",
   "name": "julia",
   "version": "1.7.0"
  },
  "orig_nbformat": 4
 },
 "nbformat": 4,
 "nbformat_minor": 2
}
