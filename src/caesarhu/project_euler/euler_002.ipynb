{
 "cells": [
  {
   "cell_type": "code",
   "execution_count": 16,
   "metadata": {},
   "outputs": [
    {
     "name": "stdout",
     "output_type": "stream",
     "text": [
      "  0.000001 seconds\n"
     ]
    },
    {
     "data": {
      "text/plain": [
       "4613732"
      ]
     },
     "execution_count": 16,
     "metadata": {},
     "output_type": "execute_result"
    }
   ],
   "source": [
    "function sum_fib(limit::Int64, sum::Int64, a::Int64, b::Int64)::Int64\n",
    "    if b > limit\n",
    "        sum\n",
    "    else\n",
    "        sum_fib(limit, (iseven(b) ? sum+b : sum), b, a+b)\n",
    "    end\n",
    "end\n",
    "\n",
    "function solve_002(limit=4000000)\n",
    "    sum_fib(limit, 0, 1, 1)\n",
    "end\n",
    "\n",
    "@time solve_002()"
   ]
  }
 ],
 "metadata": {
  "kernelspec": {
   "display_name": "Julia 1.7.0",
   "language": "julia",
   "name": "julia-1.7"
  },
  "language_info": {
   "file_extension": ".jl",
   "mimetype": "application/julia",
   "name": "julia",
   "version": "1.7.0"
  },
  "orig_nbformat": 4
 },
 "nbformat": 4,
 "nbformat_minor": 2
}
