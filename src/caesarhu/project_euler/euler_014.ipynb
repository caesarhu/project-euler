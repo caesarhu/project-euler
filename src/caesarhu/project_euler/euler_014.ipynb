{
 "cells": [
  {
   "cell_type": "code",
   "execution_count": 7,
   "metadata": {},
   "outputs": [
    {
     "data": {
      "text/plain": [
       "solve_014 (generic function with 2 methods)"
      ]
     },
     "metadata": {},
     "output_type": "display_data"
    }
   ],
   "source": [
    "\n",
    "function solve_014(limit=1000000)\n",
    "    max_index = 1\n",
    "    steps = []\n",
    "    function count_length(i)\n",
    "        count = 0\n",
    "        num = i\n",
    "        while num != 1\n",
    "            if iseven(num)\n",
    "                num ÷= 2\n",
    "            else\n",
    "                num = num * 3 + 1\n",
    "            end\n",
    "            count += 1\n",
    "            if num < i\n",
    "                count += steps[num]\n",
    "                break\n",
    "            end\n",
    "        end\n",
    "        count\n",
    "    end\n",
    "\n",
    "    for i in 1:limit - 1\n",
    "        count = count_length(i)\n",
    "        push!(steps, count)\n",
    "        if count > steps[max_index]\n",
    "            max_index = i\n",
    "        end\n",
    "    end\n",
    "    max_index\n",
    "end\n"
   ]
  },
  {
   "cell_type": "code",
   "execution_count": 8,
   "metadata": {},
   "outputs": [
    {
     "name": "stdout",
     "output_type": "stream",
     "text": [
      "  0.046841 seconds (15 allocations: 9.781 MiB, 17.74% gc time)\n"
     ]
    },
    {
     "data": {
      "text/plain": [
       "837799"
      ]
     },
     "metadata": {},
     "output_type": "display_data"
    }
   ],
   "source": [
    "@time solve_014()"
   ]
  }
 ],
 "metadata": {
  "kernelspec": {
   "display_name": "Julia 1.7.0",
   "language": "julia",
   "name": "julia-1.7"
  },
  "language_info": {
   "file_extension": ".jl",
   "mimetype": "application/julia",
   "name": "julia",
   "version": "1.7.0"
  },
  "orig_nbformat": 4
 },
 "nbformat": 4,
 "nbformat_minor": 2
}
