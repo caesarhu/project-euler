{
 "cells": [
  {
   "cell_type": "code",
   "execution_count": 65,
   "metadata": {},
   "outputs": [
    {
     "data": {
      "text/plain": [
       "solve_023 (generic function with 1 method)"
      ]
     },
     "execution_count": 65,
     "metadata": {},
     "output_type": "execute_result"
    }
   ],
   "source": [
    "using Combinatorics\n",
    "include(\"utils/utils.jl\")\n",
    "\n",
    "function is_abundant(n::Int64)\n",
    "    dsum = divisors(n)[1:end-1] |> sum\n",
    "    dsum > n\n",
    "end\n",
    "\n",
    "function all_abundant()\n",
    "    abundants = []\n",
    "    for i in 12:28123\n",
    "        if is_abundant(i)\n",
    "            push!(abundants, i)\n",
    "        end\n",
    "    end\n",
    "    abundants\n",
    "end\n",
    "\n",
    "abundants = all_abundant()\n",
    "abundants_set = Set(abundants)\n",
    "\n",
    "function is_sum(n)\n",
    "    result = false\n",
    "    for i in abundants\n",
    "        if i > n / 2\n",
    "            break\n",
    "        end\n",
    "        if in(n - i, abundants_set)\n",
    "            result = true\n",
    "            break\n",
    "        end\n",
    "    end\n",
    "    result\n",
    "end\n",
    "\n",
    "function solve_023()\n",
    "    filter(!is_sum, 1:28123) |> sum\n",
    "end"
   ]
  },
  {
   "cell_type": "code",
   "execution_count": 66,
   "metadata": {},
   "outputs": [
    {
     "name": "stdout",
     "output_type": "stream",
     "text": [
      "  1.231022 seconds (25.44 M allocations: 450.677 MiB)\n"
     ]
    },
    {
     "data": {
      "text/plain": [
       "4179871"
      ]
     },
     "execution_count": 66,
     "metadata": {},
     "output_type": "execute_result"
    }
   ],
   "source": [
    "@time solve_023()"
   ]
  }
 ],
 "metadata": {
  "kernelspec": {
   "display_name": "Julia 1.7.0",
   "language": "julia",
   "name": "julia-1.7"
  },
  "language_info": {
   "file_extension": ".jl",
   "mimetype": "application/julia",
   "name": "julia",
   "version": "1.7.0"
  },
  "orig_nbformat": 4
 },
 "nbformat": 4,
 "nbformat_minor": 2
}
