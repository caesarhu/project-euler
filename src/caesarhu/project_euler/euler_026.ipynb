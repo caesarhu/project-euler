{
 "cells": [
  {
   "cell_type": "code",
   "execution_count": 20,
   "metadata": {},
   "outputs": [
    {
     "data": {
      "text/plain": [
       "solve_026 (generic function with 2 methods)"
      ]
     },
     "execution_count": 20,
     "metadata": {},
     "output_type": "execute_result"
    }
   ],
   "source": [
    "include(\"utils/utils.jl\")\n",
    "\n",
    "function nmod(n::Int64)\n",
    "    function (x)\n",
    "        (x == 0 || x == nothing) ? nothing : x * 10 % n\n",
    "    end\n",
    "end\n",
    "\n",
    "function count_cycle(n::Int64)\n",
    "    floyd_cycle(nmod(n), 1) |> first\n",
    "end\n",
    "\n",
    "function solve_026(limit=1000::Int64)\n",
    "    findmax(count_cycle, 1:limit-1) |> last\n",
    "end"
   ]
  },
  {
   "cell_type": "code",
   "execution_count": 21,
   "metadata": {},
   "outputs": [
    {
     "data": {
      "text/plain": [
       "983"
      ]
     },
     "execution_count": 21,
     "metadata": {},
     "output_type": "execute_result"
    }
   ],
   "source": [
    "solve_026()"
   ]
  }
 ],
 "metadata": {
  "kernelspec": {
   "display_name": "Julia 1.7.0",
   "language": "julia",
   "name": "julia-1.7"
  },
  "language_info": {
   "file_extension": ".jl",
   "mimetype": "application/julia",
   "name": "julia",
   "version": "1.7.0"
  },
  "orig_nbformat": 4
 },
 "nbformat": 4,
 "nbformat_minor": 2
}
