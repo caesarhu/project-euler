{
 "cells": [
  {
   "cell_type": "code",
   "execution_count": 204,
   "metadata": {},
   "outputs": [
    {
     "data": {
      "text/plain": [
       "solve_040 (generic function with 1 method)"
      ]
     },
     "execution_count": 204,
     "metadata": {},
     "output_type": "execute_result"
    }
   ],
   "source": [
    "using Lazy\n",
    "\n",
    "function digit_number(d::Int64)\n",
    "    if d < 10\n",
    "        d\n",
    "    else\n",
    "        p = 0\n",
    "        while d > (9 * 10^p * (p + 1))\n",
    "            d -= (9 * 10^p * (p + 1))\n",
    "            p += 1\n",
    "        end\n",
    "        power = p + 1\n",
    "        number = 10^p + d ÷ power\n",
    "        @>> digits(number) reverse (x -> x[d % power])\n",
    "    end\n",
    "end\n",
    "\n",
    "function solve_040(n::Int64)\n",
    "    @>> map(x -> digit_number(10^x), 0:n) reduce(*)\n",
    "end\n"
   ]
  },
  {
   "cell_type": "code",
   "execution_count": 206,
   "metadata": {},
   "outputs": [
    {
     "name": "stdout",
     "output_type": "stream",
     "text": [
      "  0.000027 seconds (73 allocations: 2.250 KiB)\n"
     ]
    },
    {
     "data": {
      "text/plain": [
       "210"
      ]
     },
     "execution_count": 206,
     "metadata": {},
     "output_type": "execute_result"
    }
   ],
   "source": [
    "@time solve_040(6)"
   ]
  }
 ],
 "metadata": {
  "kernelspec": {
   "display_name": "Julia 1.7.0",
   "language": "julia",
   "name": "julia-1.7"
  },
  "language_info": {
   "file_extension": ".jl",
   "mimetype": "application/julia",
   "name": "julia",
   "version": "1.7.0"
  },
  "orig_nbformat": 4
 },
 "nbformat": 4,
 "nbformat_minor": 2
}
