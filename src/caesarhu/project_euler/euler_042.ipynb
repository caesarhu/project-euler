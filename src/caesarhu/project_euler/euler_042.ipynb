{
 "cells": [
  {
   "cell_type": "code",
   "execution_count": 50,
   "metadata": {},
   "outputs": [
    {
     "data": {
      "text/plain": [
       "solve_042 (generic function with 1 method)"
      ]
     },
     "execution_count": 50,
     "metadata": {},
     "output_type": "execute_result"
    }
   ],
   "source": [
    "using Polynomials\n",
    "\n",
    "function get_names()\n",
    "    path = \"../../../resources/data/p042_words.txt\"\n",
    "    names = split(open(f->read(f, String), path), \",\")\n",
    "    map(s -> replace(s, \"\\\"\" => \"\"), names) |> sort\n",
    "end\n",
    "\n",
    "function score(name::String)\n",
    "    map(c -> Int(c) - 64, collect(name)) |> sum\n",
    "end\n",
    "\n",
    "function is_triangle(n::Int64)\n",
    "    root = (sqrt(n * 8 + 1) - 1) / 2\n",
    "    isinteger(root)\n",
    "end\n",
    "\n",
    "function solve_042()\n",
    "    filter(is_triangle, map(score, get_names())) |> length\n",
    "end"
   ]
  },
  {
   "cell_type": "code",
   "execution_count": 51,
   "metadata": {},
   "outputs": [
    {
     "data": {
      "text/plain": [
       "162"
      ]
     },
     "execution_count": 51,
     "metadata": {},
     "output_type": "execute_result"
    }
   ],
   "source": [
    "solve_042()"
   ]
  }
 ],
 "metadata": {
  "kernelspec": {
   "display_name": "Julia 1.7.0",
   "language": "julia",
   "name": "julia-1.7"
  },
  "language_info": {
   "file_extension": ".jl",
   "mimetype": "application/julia",
   "name": "julia",
   "version": "1.7.0"
  },
  "orig_nbformat": 4
 },
 "nbformat": 4,
 "nbformat_minor": 2
}
