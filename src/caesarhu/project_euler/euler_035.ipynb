{
 "cells": [
  {
   "cell_type": "code",
   "execution_count": 40,
   "metadata": {},
   "outputs": [
    {
     "data": {
      "text/plain": [
       "solve_035 (generic function with 2 methods)"
      ]
     },
     "execution_count": 40,
     "metadata": {},
     "output_type": "execute_result"
    }
   ],
   "source": [
    "using Primes\n",
    "include(\"utils/utils.jl\")\n",
    "\n",
    "function rotate(v)\n",
    "    append!(v[2:end], first(v))\n",
    "end\n",
    "\n",
    "function is_curious(n::Int64)\n",
    "    nd = digits(n)\n",
    "    L = length(nd)\n",
    "    current = nd\n",
    "    result = []\n",
    "    for i in 1:L\n",
    "        push!(result, current)\n",
    "        current = rotate(current)\n",
    "    end\n",
    "    all(isprime, map(to_number, result))\n",
    "end\n",
    "\n",
    "function solve_035(limit=1000000::Int64)\n",
    "    primes(limit) |> x -> filter(is_curious, x) |> length\n",
    "end"
   ]
  },
  {
   "cell_type": "code",
   "execution_count": 43,
   "metadata": {},
   "outputs": [
    {
     "name": "stdout",
     "output_type": "stream",
     "text": [
      "  0.146910 seconds (2.50 M allocations: 165.319 MiB, 5.97% gc time)\n"
     ]
    },
    {
     "data": {
      "text/plain": [
       "55"
      ]
     },
     "execution_count": 43,
     "metadata": {},
     "output_type": "execute_result"
    }
   ],
   "source": [
    "@time solve_035()"
   ]
  }
 ],
 "metadata": {
  "kernelspec": {
   "display_name": "Julia 1.7.0",
   "language": "julia",
   "name": "julia-1.7"
  },
  "language_info": {
   "file_extension": ".jl",
   "mimetype": "application/julia",
   "name": "julia",
   "version": "1.7.0"
  },
  "orig_nbformat": 4
 },
 "nbformat": 4,
 "nbformat_minor": 2
}
