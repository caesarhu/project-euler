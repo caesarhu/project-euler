{
 "cells": [
  {
   "cell_type": "code",
   "execution_count": 57,
   "metadata": {},
   "outputs": [
    {
     "data": {
      "text/plain": [
       "solve_039 (generic function with 2 methods)"
      ]
     },
     "execution_count": 57,
     "metadata": {},
     "output_type": "execute_result"
    }
   ],
   "source": [
    "function valid_pair(m::Int64, n::Int64)::Bool\n",
    "    !(isodd(m) && isodd(n)) && (gcd(m, n) == 1)\n",
    "end\n",
    "\n",
    "function triplet_generator(m::Int64, n::Int64)\n",
    "    if valid_pair(m, n)\n",
    "        [abs(m^2 - n^2), 2*m*n, (m^2 + n^2)]\n",
    "    end\n",
    "end\n",
    "\n",
    "function solve_039(n=1000::Int64)\n",
    "    result = Dict{Int64, Int64}()\n",
    "    for i in 1:n÷3\n",
    "        for j in i+1:(n-i)÷2\n",
    "            triplet = triplet_generator(i,j)\n",
    "            if triplet != nothing\n",
    "                triplet_sum = sum(triplet)\n",
    "                if triplet_sum > 1000\n",
    "                    break\n",
    "                else\n",
    "                    for k in 1:n÷triplet_sum\n",
    "                        mergewith!(+, result, Dict(triplet_sum * k => 1))\n",
    "                    end\n",
    "                end\n",
    "            end\n",
    "        end\n",
    "    end\n",
    "    findmax(result)[2]\n",
    "end"
   ]
  },
  {
   "cell_type": "code",
   "execution_count": 59,
   "metadata": {},
   "outputs": [
    {
     "name": "stdout",
     "output_type": "stream",
     "text": [
      "  0.000124 seconds (1.72 k allocations: 227.734 KiB)\n"
     ]
    },
    {
     "data": {
      "text/plain": [
       "840"
      ]
     },
     "execution_count": 59,
     "metadata": {},
     "output_type": "execute_result"
    }
   ],
   "source": [
    "@time solve_039()"
   ]
  }
 ],
 "metadata": {
  "kernelspec": {
   "display_name": "Julia 1.7.0",
   "language": "julia",
   "name": "julia-1.7"
  },
  "language_info": {
   "file_extension": ".jl",
   "mimetype": "application/julia",
   "name": "julia",
   "version": "1.7.0"
  },
  "orig_nbformat": 4
 },
 "nbformat": 4,
 "nbformat_minor": 2
}
