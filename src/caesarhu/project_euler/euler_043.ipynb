{
 "cells": [
  {
   "cell_type": "code",
   "execution_count": 3,
   "metadata": {},
   "outputs": [
    {
     "data": {
      "text/plain": [
       "solve_043 (generic function with 1 method)"
      ]
     },
     "execution_count": 3,
     "metadata": {},
     "output_type": "execute_result"
    }
   ],
   "source": [
    "using Lazy\n",
    "include(\"utils/utils.jl\")\n",
    "\n",
    "function is_different(v)\n",
    "    length(v) == length(Set(v))\n",
    "end\n",
    "\n",
    "function is_divisible(v, d)\n",
    "    v3 = v[max(end-2,1):end]\n",
    "    to_number(v3,true) % d == 0\n",
    "end\n",
    "\n",
    "init_vec = map(x -> [x], 1:9)\n",
    "primes = [1, 1, 2, 3, 5, 7, 11, 13, 17]\n",
    "\n",
    "function prod_digit(v)\n",
    "    result = []\n",
    "    for i in v\n",
    "        for j in 0:9\n",
    "            push!(result, append!([], i, j))\n",
    "        end\n",
    "    end\n",
    "    result\n",
    "end\n",
    "\n",
    "function next_digit(v, prime)\n",
    "    @>> prod_digit(v) filter(is_different) filter(x -> is_divisible(x, prime))\n",
    "end\n",
    "\n",
    "function solve_043()\n",
    "    temp = reduce((acc, prime) -> next_digit(acc, prime), primes; init=init_vec)\n",
    "    @>> map(x -> to_number(x,true), temp) sum\n",
    "end"
   ]
  },
  {
   "cell_type": "code",
   "execution_count": 5,
   "metadata": {},
   "outputs": [
    {
     "name": "stdout",
     "output_type": "stream",
     "text": [
      "  0.390523 seconds (2.92 M allocations: 146.001 MiB, 11.87% gc time)\n"
     ]
    },
    {
     "data": {
      "text/plain": [
       "16695334890"
      ]
     },
     "execution_count": 5,
     "metadata": {},
     "output_type": "execute_result"
    }
   ],
   "source": [
    "@time solve_043()"
   ]
  }
 ],
 "metadata": {
  "kernelspec": {
   "display_name": "Julia 1.7.0",
   "language": "julia",
   "name": "julia-1.7"
  },
  "language_info": {
   "file_extension": ".jl",
   "mimetype": "application/julia",
   "name": "julia",
   "version": "1.7.0"
  },
  "orig_nbformat": 4
 },
 "nbformat": 4,
 "nbformat_minor": 2
}
