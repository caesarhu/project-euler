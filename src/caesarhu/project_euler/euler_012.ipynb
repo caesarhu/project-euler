{
 "cells": [
  {
   "cell_type": "code",
   "execution_count": 15,
   "metadata": {},
   "outputs": [
    {
     "name": "stdout",
     "output_type": "stream",
     "text": [
      "  0.019377 seconds (117.93 k allocations: 14.065 MiB)\n"
     ]
    },
    {
     "data": {
      "text/plain": [
       "76576500"
      ]
     },
     "execution_count": 15,
     "metadata": {},
     "output_type": "execute_result"
    }
   ],
   "source": [
    "include(\"utils/utils.jl\")\n",
    "\n",
    "function triangle_number(n::Int64)\n",
    "    n * (n + 1) ÷ 2\n",
    "end\n",
    "\n",
    "function  solve_012(limit=500)\n",
    "    n = 1\n",
    "    while count_divisors(triangle_number(n)) <= limit\n",
    "        n += 1\n",
    "    end\n",
    "    triangle_number(n)\n",
    "end\n",
    "\n",
    "@time solve_012()"
   ]
  }
 ],
 "metadata": {
  "kernelspec": {
   "display_name": "Julia 1.7.0",
   "language": "julia",
   "name": "julia-1.7"
  },
  "language_info": {
   "file_extension": ".jl",
   "mimetype": "application/julia",
   "name": "julia",
   "version": "1.7.0"
  },
  "orig_nbformat": 4
 },
 "nbformat": 4,
 "nbformat_minor": 2
}
