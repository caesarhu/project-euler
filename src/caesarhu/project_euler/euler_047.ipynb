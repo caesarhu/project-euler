{
 "cells": [
  {
   "cell_type": "code",
   "execution_count": 61,
   "metadata": {},
   "outputs": [
    {
     "data": {
      "text/plain": [
       "solve_047 (generic function with 1 method)"
      ]
     },
     "execution_count": 61,
     "metadata": {},
     "output_type": "execute_result"
    }
   ],
   "source": [
    "using Primes\n",
    "import Lazy\n",
    "\n",
    "function factors_count(n)\n",
    "    factor(Set, n) |> length\n",
    "end\n",
    "\n",
    "function is_consecutive(v)\n",
    "    distance = Lazy.@>> Lazy.partition(2, Lazy.seq(v); step=1) map(v -> v[2] - v[1])\n",
    "    result = true\n",
    "    for i in distance\n",
    "        if i != 1\n",
    "            result = false\n",
    "            break\n",
    "        end\n",
    "    end\n",
    "    result\n",
    "end\n",
    "\n",
    "function solve_047()\n",
    "    numbers = []\n",
    "    n = 2\n",
    "    while true\n",
    "        if factors_count(n) == 4\n",
    "            push!(numbers, n)\n",
    "        end\n",
    "        if length(numbers) >= 4 && is_consecutive(numbers[end-3:end])\n",
    "            return numbers[end-3]\n",
    "        end\n",
    "        n += 1\n",
    "    end\n",
    "end\n"
   ]
  },
  {
   "cell_type": "code",
   "execution_count": 63,
   "metadata": {},
   "outputs": [
    {
     "name": "stdout",
     "output_type": "stream",
     "text": [
      "  0.478517 seconds (9.13 M allocations: 283.652 MiB, 4.74% gc time)\n"
     ]
    },
    {
     "data": {
      "text/plain": [
       "134043"
      ]
     },
     "execution_count": 63,
     "metadata": {},
     "output_type": "execute_result"
    }
   ],
   "source": [
    "@time solve_047()"
   ]
  }
 ],
 "metadata": {
  "kernelspec": {
   "display_name": "Julia 1.7.0",
   "language": "julia",
   "name": "julia-1.7"
  },
  "language_info": {
   "file_extension": ".jl",
   "mimetype": "application/julia",
   "name": "julia",
   "version": "1.7.0"
  },
  "orig_nbformat": 4
 },
 "nbformat": 4,
 "nbformat_minor": 2
}
